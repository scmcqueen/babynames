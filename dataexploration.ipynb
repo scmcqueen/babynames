{
 "cells": [
  {
   "cell_type": "markdown",
   "metadata": {},
   "source": [
    "# Baby Names: Data Exploration"
   ]
  },
  {
   "cell_type": "code",
   "execution_count": 2,
   "metadata": {},
   "outputs": [],
   "source": [
    "import pandas as pd\n",
    "import altair as at\n",
    "import seaborn as sns\n",
    "import os"
   ]
  },
  {
   "cell_type": "code",
   "execution_count": null,
   "metadata": {},
   "outputs": [],
   "source": []
  },
  {
   "cell_type": "code",
   "execution_count": 3,
   "metadata": {},
   "outputs": [
    {
     "name": "stdout",
     "output_type": "stream",
     "text": [
      "IN.TXT\n",
      "IL.TXT\n",
      "KS.TXT\n",
      "SC.TXT\n",
      "HI.TXT\n",
      "GA.TXT\n",
      "SD.TXT\n",
      "CO.TXT\n",
      "NH.TXT\n",
      "MS.TXT\n",
      "MD.TXT\n",
      "UT.TXT\n",
      "LA.TXT\n",
      "ME.TXT\n",
      "WI.TXT\n",
      "NJ.TXT\n",
      "AR.TXT\n",
      "NY.TXT\n",
      "MT.TXT\n",
      "OK.TXT\n",
      "MA.TXT\n",
      "NM.TXT\n",
      "WY.TXT\n",
      "OH.TXT\n",
      "OR.TXT\n",
      "NV.TXT\n",
      "TX.TXT\n",
      "TN.TXT\n",
      "StateReadMe.pdf\n",
      "AZ.TXT\n",
      "MN.TXT\n",
      "WA.TXT\n",
      "WV.TXT\n",
      "NC.TXT\n",
      "MO.TXT\n",
      "AL.TXT\n",
      "VA.TXT\n",
      "CA.TXT\n",
      "CT.TXT\n",
      "AK.TXT\n",
      "ND.TXT\n",
      "VT.TXT\n",
      "MI.TXT\n",
      "NE.TXT\n",
      "KY.TXT\n",
      "ID.TXT\n",
      "DC.TXT\n",
      "IA.TXT\n",
      "FL.TXT\n",
      "PA.TXT\n",
      "RI.TXT\n",
      "DE.TXT\n"
     ]
    }
   ],
   "source": [
    "for f in os.listdir('namesbystate'):\n",
    "    print(f)"
   ]
  }
 ],
 "metadata": {
  "kernelspec": {
   "display_name": "si649f23",
   "language": "python",
   "name": "python3"
  },
  "language_info": {
   "codemirror_mode": {
    "name": "ipython",
    "version": 3
   },
   "file_extension": ".py",
   "mimetype": "text/x-python",
   "name": "python",
   "nbconvert_exporter": "python",
   "pygments_lexer": "ipython3",
   "version": "3.11.4"
  }
 },
 "nbformat": 4,
 "nbformat_minor": 2
}
