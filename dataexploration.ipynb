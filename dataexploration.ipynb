{
 "cells": [
  {
   "cell_type": "markdown",
   "metadata": {},
   "source": [
    "# Baby Names: Data Exploration"
   ]
  },
  {
   "cell_type": "code",
   "execution_count": 2,
   "metadata": {},
   "outputs": [],
   "source": [
    "import pandas as pd\n",
    "import altair as at\n",
    "import seaborn as sns\n",
    "import os"
   ]
  },
  {
   "cell_type": "code",
   "execution_count": 33,
   "metadata": {},
   "outputs": [],
   "source": [
    "def open_files(path:str='namesbystate',cols:list=['state','sex','year','name','number'])->pd.DataFrame:\n",
    "    '''Reads all of the files in a folder and returns a df.'''\n",
    "    output = None\n",
    "    for f in os.listdir(path):\n",
    "        # check if csv or txt\n",
    "        if ('.csv' not in f.lower()) and ('.txt' not in f.lower()):\n",
    "            continue\n",
    "        csv_path = f'{path}/{f}'\n",
    "        df = pd.read_csv(csv_path)\n",
    "        df.columns=cols\n",
    "        # update the output\n",
    "        if output is None:\n",
    "            output = df.copy()\n",
    "        else:\n",
    "            output = pd.concat([output,df],axis=0)\n",
    "    return output"
   ]
  },
  {
   "cell_type": "code",
   "execution_count": 37,
   "metadata": {},
   "outputs": [],
   "source": [
    "path = 'namesbystate'\n",
    "# read file\n",
    "df=open_files()\n",
    "df.head()\n",
    "# save file, combined\n",
    "df.to_csv(f'combined.csv')\n"
   ]
  },
  {
   "cell_type": "code",
   "execution_count": null,
   "metadata": {},
   "outputs": [],
   "source": [
    "df.to_csv"
   ]
  },
  {
   "cell_type": "code",
   "execution_count": 6,
   "metadata": {},
   "outputs": [
    {
     "name": "stdout",
     "output_type": "stream",
     "text": [
      "IN.TXT\n",
      "        IN  F  1910      Mary  619\n",
      "0       IN  F  1910     Helen  324\n",
      "1       IN  F  1910      Ruth  238\n",
      "2       IN  F  1910   Dorothy  215\n",
      "3       IN  F  1910   Mildred  200\n",
      "4       IN  F  1910  Margaret  196\n",
      "...     .. ..   ...       ...  ...\n",
      "150017  IN  M  2023    Yaseen    5\n",
      "150018  IN  M  2023     Yusuf    5\n",
      "150019  IN  M  2023     Zahir    5\n",
      "150020  IN  M  2023      Zayd    5\n",
      "150021  IN  M  2023    Zaylen    5\n",
      "\n",
      "[150022 rows x 5 columns]\n"
     ]
    }
   ],
   "source": [
    "for f in os.listdir('namesbystate'):\n",
    "    print(f) \n",
    "    x=pd.read_csv(f'namesbystate/{f}')\n",
    "    print(x)\n",
    "    break"
   ]
  }
 ],
 "metadata": {
  "kernelspec": {
   "display_name": "si649f23",
   "language": "python",
   "name": "python3"
  },
  "language_info": {
   "codemirror_mode": {
    "name": "ipython",
    "version": 3
   },
   "file_extension": ".py",
   "mimetype": "text/x-python",
   "name": "python",
   "nbconvert_exporter": "python",
   "pygments_lexer": "ipython3",
   "version": "3.11.4"
  }
 },
 "nbformat": 4,
 "nbformat_minor": 2
}
