{
 "cells": [
  {
   "cell_type": "markdown",
   "metadata": {},
   "source": [
    "# Baby Names: Data Exploration"
   ]
  },
  {
   "cell_type": "code",
   "execution_count": 2,
   "metadata": {},
   "outputs": [],
   "source": [
    "import pandas as pd\n",
    "import altair as at\n",
    "import seaborn as sns\n",
    "import os"
   ]
  },
  {
   "cell_type": "code",
   "execution_count": 33,
   "metadata": {},
   "outputs": [],
   "source": [
    "def open_files(path:str='namesbystate',cols:list=['state','sex','year','name','number'])->pd.DataFrame:\n",
    "    '''Reads all of the files in a folder and returns a df.'''\n",
    "    output = None\n",
    "    for f in os.listdir(path):\n",
    "        # check if csv or txt\n",
    "        if ('.csv' not in f.lower()) and ('.txt' not in f.lower()):\n",
    "            continue\n",
    "        csv_path = f'{path}/{f}'\n",
    "        df = pd.read_csv(csv_path)\n",
    "        df.columns=cols\n",
    "        # update the output\n",
    "        if output is None:\n",
    "            output = df.copy()\n",
    "        else:\n",
    "            output = pd.concat([output,df],axis=0)\n",
    "    return output"
   ]
  },
  {
   "cell_type": "code",
   "execution_count": 37,
   "metadata": {},
   "outputs": [],
   "source": [
    "# read file\n",
    "df=open_files()\n",
    "\n",
    "# save file, combined\n",
    "df.to_csv('combined.csv')\n"
   ]
  },
  {
   "cell_type": "code",
   "execution_count": 38,
   "metadata": {},
   "outputs": [
    {
     "data": {
      "text/html": [
       "<div>\n",
       "<style scoped>\n",
       "    .dataframe tbody tr th:only-of-type {\n",
       "        vertical-align: middle;\n",
       "    }\n",
       "\n",
       "    .dataframe tbody tr th {\n",
       "        vertical-align: top;\n",
       "    }\n",
       "\n",
       "    .dataframe thead th {\n",
       "        text-align: right;\n",
       "    }\n",
       "</style>\n",
       "<table border=\"1\" class=\"dataframe\">\n",
       "  <thead>\n",
       "    <tr style=\"text-align: right;\">\n",
       "      <th></th>\n",
       "      <th>state</th>\n",
       "      <th>sex</th>\n",
       "      <th>year</th>\n",
       "      <th>name</th>\n",
       "      <th>number</th>\n",
       "    </tr>\n",
       "  </thead>\n",
       "  <tbody>\n",
       "    <tr>\n",
       "      <th>0</th>\n",
       "      <td>IN</td>\n",
       "      <td>F</td>\n",
       "      <td>1910</td>\n",
       "      <td>Helen</td>\n",
       "      <td>324</td>\n",
       "    </tr>\n",
       "    <tr>\n",
       "      <th>1</th>\n",
       "      <td>IN</td>\n",
       "      <td>F</td>\n",
       "      <td>1910</td>\n",
       "      <td>Ruth</td>\n",
       "      <td>238</td>\n",
       "    </tr>\n",
       "    <tr>\n",
       "      <th>2</th>\n",
       "      <td>IN</td>\n",
       "      <td>F</td>\n",
       "      <td>1910</td>\n",
       "      <td>Dorothy</td>\n",
       "      <td>215</td>\n",
       "    </tr>\n",
       "    <tr>\n",
       "      <th>3</th>\n",
       "      <td>IN</td>\n",
       "      <td>F</td>\n",
       "      <td>1910</td>\n",
       "      <td>Mildred</td>\n",
       "      <td>200</td>\n",
       "    </tr>\n",
       "    <tr>\n",
       "      <th>4</th>\n",
       "      <td>IN</td>\n",
       "      <td>F</td>\n",
       "      <td>1910</td>\n",
       "      <td>Margaret</td>\n",
       "      <td>196</td>\n",
       "    </tr>\n",
       "  </tbody>\n",
       "</table>\n",
       "</div>"
      ],
      "text/plain": [
       "  state sex  year      name  number\n",
       "0    IN   F  1910     Helen     324\n",
       "1    IN   F  1910      Ruth     238\n",
       "2    IN   F  1910   Dorothy     215\n",
       "3    IN   F  1910   Mildred     200\n",
       "4    IN   F  1910  Margaret     196"
      ]
     },
     "execution_count": 38,
     "metadata": {},
     "output_type": "execute_result"
    }
   ],
   "source": [
    "df.head()"
   ]
  },
  {
   "cell_type": "code",
   "execution_count": 6,
   "metadata": {},
   "outputs": [
    {
     "name": "stdout",
     "output_type": "stream",
     "text": [
      "IN.TXT\n",
      "        IN  F  1910      Mary  619\n",
      "0       IN  F  1910     Helen  324\n",
      "1       IN  F  1910      Ruth  238\n",
      "2       IN  F  1910   Dorothy  215\n",
      "3       IN  F  1910   Mildred  200\n",
      "4       IN  F  1910  Margaret  196\n",
      "...     .. ..   ...       ...  ...\n",
      "150017  IN  M  2023    Yaseen    5\n",
      "150018  IN  M  2023     Yusuf    5\n",
      "150019  IN  M  2023     Zahir    5\n",
      "150020  IN  M  2023      Zayd    5\n",
      "150021  IN  M  2023    Zaylen    5\n",
      "\n",
      "[150022 rows x 5 columns]\n"
     ]
    }
   ],
   "source": [
    "for f in os.listdir('namesbystate'):\n",
    "    print(f) \n",
    "    x=pd.read_csv(f'namesbystate/{f}')\n",
    "    print(x)\n",
    "    break"
   ]
  }
 ],
 "metadata": {
  "kernelspec": {
   "display_name": "si649f23",
   "language": "python",
   "name": "python3"
  },
  "language_info": {
   "codemirror_mode": {
    "name": "ipython",
    "version": 3
   },
   "file_extension": ".py",
   "mimetype": "text/x-python",
   "name": "python",
   "nbconvert_exporter": "python",
   "pygments_lexer": "ipython3",
   "version": "3.11.4"
  }
 },
 "nbformat": 4,
 "nbformat_minor": 2
}
